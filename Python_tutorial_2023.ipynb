{
 "cells": [
  {
   "cell_type": "markdown",
   "id": "36b87795-5a63-4ce6-99af-5784bcb32900",
   "metadata": {},
   "source": [
    "# OCNC 2023\n",
    "# Python Tutorial\n",
    "\n",
    "June 20, 2023\n",
    "\n",
    "Jules Lallouette\n",
    "\n",
    "## Jupyter notebooks\n",
    "\n",
    "Jupyter notebooks are composed of cells that can contain text or code. Text cells can contain \"[markdown](https://en.wikipedia.org/wiki/Markdown)\" which is a simple markup language.\n",
    "\n",
    "It has *basic* **formatting** and LaTeX support: $e^{i\\pi}$\n",
    "\n",
    "Code cells contain python code and can be evaluated with Shift + Enter.\n",
    "\n",
    "## Python expressions and operators\n",
    "\n",
    "Code cells display the last evaluated expression"
   ]
  },
  {
   "cell_type": "code",
   "execution_count": null,
   "id": "25d78530-3f55-4a2a-b584-b680fe00a408",
   "metadata": {},
   "outputs": [],
   "source": [
    "1 + 2"
   ]
  },
  {
   "cell_type": "markdown",
   "id": "3ddfb22b-bd0c-4f47-a4c5-39d7f2ea32b5",
   "metadata": {},
   "source": [
    "Basic arithmetic operators behave as expected:"
   ]
  },
  {
   "cell_type": "code",
   "execution_count": null,
   "id": "5616df13-d4cf-4219-9893-03165d40459f",
   "metadata": {},
   "outputs": [],
   "source": [
    "3 - 2"
   ]
  },
  {
   "cell_type": "code",
   "execution_count": null,
   "id": "c65b6a6e-fd4b-4474-bf9a-279572260211",
   "metadata": {},
   "outputs": [],
   "source": [
    "3 * 2"
   ]
  },
  {
   "cell_type": "code",
   "execution_count": null,
   "id": "a46dc49a-f362-42eb-9f37-538f48cf36f4",
   "metadata": {},
   "outputs": [],
   "source": [
    "3 / 2"
   ]
  },
  {
   "cell_type": "markdown",
   "id": "b5f30e85-4b67-4cf9-b12b-d7070b883955",
   "metadata": {},
   "source": [
    "There are however a few python peculiarities. The exponent operator is `**` and not `^` which is the bitwise exclusive or operator."
   ]
  },
  {
   "cell_type": "code",
   "execution_count": null,
   "id": "f87efc2b-8a16-4b29-9879-0866af898dc9",
   "metadata": {},
   "outputs": [],
   "source": [
    "2 ** 3 # Exponent"
   ]
  },
  {
   "cell_type": "code",
   "execution_count": null,
   "id": "485c02e9-a745-45ac-95d9-cea912bd71be",
   "metadata": {},
   "outputs": [],
   "source": [
    "2 ^ 3 # Bitwise XOR  0b10 xor 0b11 = 0b001"
   ]
  },
  {
   "cell_type": "markdown",
   "id": "2403eb02-d31d-475f-840f-5065a9594575",
   "metadata": {},
   "source": [
    "As seen above, the division operator returns a decimal number, python also has an integer division operator `//` that returns only the integer part:"
   ]
  },
  {
   "cell_type": "code",
   "execution_count": null,
   "id": "f9de56cd-bb9a-4489-ac31-8f3c4f8d8182",
   "metadata": {},
   "outputs": [],
   "source": [
    "10 // 3"
   ]
  },
  {
   "cell_type": "markdown",
   "id": "a1688434-c959-435c-a3b3-52ae35feddf6",
   "metadata": {},
   "source": [
    "And a modulus operator `%` that returns the remainder:"
   ]
  },
  {
   "cell_type": "code",
   "execution_count": null,
   "id": "427200b5-a58d-4b55-bcb0-e26450bcf7d3",
   "metadata": {},
   "outputs": [],
   "source": [
    "3 % 2"
   ]
  },
  {
   "cell_type": "markdown",
   "id": "f93cd885-d659-4d26-89a1-fc24c8d7a44a",
   "metadata": {},
   "source": [
    "### Operator precedence\n",
    "\n",
    "Mostly follows what you would expect from math, parentheses can be used. Expressions are evaluated from operators with highest precedence to lowest precedence, equivalent precedence are evaluated from left to right. \n",
    "\n",
    "More details in the [python documentation](https://docs.python.org/3/reference/expressions.html#operator-precedence)"
   ]
  },
  {
   "cell_type": "code",
   "execution_count": null,
   "id": "25ecdc00-e8d1-4bc4-8a56-3b5c075d570e",
   "metadata": {},
   "outputs": [],
   "source": [
    "3 * 2 ** 4 / 5 - 2"
   ]
  },
  {
   "cell_type": "code",
   "execution_count": null,
   "id": "f3f7eb6c-89ae-48d0-ad8c-372ac4d26533",
   "metadata": {},
   "outputs": [],
   "source": [
    "((3 * (2 ** 4)) / 5) - 2"
   ]
  },
  {
   "cell_type": "code",
   "execution_count": null,
   "id": "e480dc2b-287b-4bb1-93a8-4ac942f9b435",
   "metadata": {},
   "outputs": [],
   "source": [
    "(3 * 2) ** 4 / (5 - 2)"
   ]
  },
  {
   "cell_type": "markdown",
   "id": "0b8e1db4-cb48-4b05-9561-003802b61cce",
   "metadata": {},
   "source": [
    "## Variables\n",
    "\n",
    "Python is a dynamically typed language, there is no need to declare the type of a variable. A value is assigned to a variable with `=`:"
   ]
  },
  {
   "cell_type": "code",
   "execution_count": null,
   "id": "9e08cea5-b940-4c8b-901d-250e71d1b2b7",
   "metadata": {},
   "outputs": [],
   "source": [
    "a = 12"
   ]
  },
  {
   "cell_type": "markdown",
   "id": "3d35a670-7963-48e1-b4b6-3f985ec3f5ad",
   "metadata": {},
   "source": [
    "Variables are accessible accross cells:"
   ]
  },
  {
   "cell_type": "code",
   "execution_count": null,
   "id": "ec714dd7-d4ca-499c-a638-608aaaf7c79c",
   "metadata": {},
   "outputs": [],
   "source": [
    "a"
   ]
  },
  {
   "cell_type": "markdown",
   "id": "6e6b818b-9602-4631-9328-9c250629790b",
   "metadata": {},
   "source": [
    "The jupyter notebook is in a given state, this state can change when cells are executed. As a result, the order in which cells are executed matters."
   ]
  },
  {
   "cell_type": "code",
   "execution_count": null,
   "id": "b7a91804-ff2c-4d4b-9dee-6973f4b1c152",
   "metadata": {},
   "outputs": [],
   "source": [
    "a = 4"
   ]
  },
  {
   "cell_type": "markdown",
   "id": "73638edf-dd7d-4a3c-9297-c8475c48c23e",
   "metadata": {},
   "source": [
    "The state can be reset with Kernel $\\rightarrow$ Restart Kernel"
   ]
  },
  {
   "cell_type": "markdown",
   "id": "c75193e5-2888-4fd7-a90c-8dad7b44303d",
   "metadata": {},
   "source": [
    "## Basic types\n",
    "\n",
    "### Numbers\n",
    "\n",
    "We already used two basic ptyhon types: integer (`int`) and floating point numbers (`float`). "
   ]
  },
  {
   "cell_type": "code",
   "execution_count": null,
   "id": "485d8691-78fe-47e6-ae87-76b9f9b0b5aa",
   "metadata": {},
   "outputs": [],
   "source": [
    "a = 3 / 2\n",
    "a"
   ]
  },
  {
   "cell_type": "markdown",
   "id": "8f577498-bfe5-434f-9685-79d8bdc5b1fc",
   "metadata": {},
   "source": [
    "You can get the type of a variable with `type`:"
   ]
  },
  {
   "cell_type": "code",
   "execution_count": null,
   "id": "8e67e7dc-5973-427c-ada8-2df71d031a3c",
   "metadata": {},
   "outputs": [],
   "source": [
    "type(a)"
   ]
  },
  {
   "cell_type": "code",
   "execution_count": null,
   "id": "a9fd186b-3daa-46f2-8c2c-0c59fe477edb",
   "metadata": {},
   "outputs": [],
   "source": [
    "int(a)"
   ]
  },
  {
   "cell_type": "code",
   "execution_count": null,
   "id": "52aa4dc4-af24-4e0e-ba38-73502d7babbb",
   "metadata": {},
   "outputs": [],
   "source": [
    "float(2)"
   ]
  },
  {
   "cell_type": "code",
   "execution_count": null,
   "id": "ed3dcb95-13bb-4737-83ed-7dcf07d3baa0",
   "metadata": {},
   "outputs": [],
   "source": [
    "1 + 2j # Complex number"
   ]
  },
  {
   "cell_type": "markdown",
   "id": "150338f2-92e4-4619-8bf0-733036c201c3",
   "metadata": {},
   "source": [
    "### Strings"
   ]
  },
  {
   "cell_type": "code",
   "execution_count": null,
   "id": "44042de2-9611-4c51-b738-de49f9f6f0f6",
   "metadata": {},
   "outputs": [],
   "source": [
    "'This is a string of characters'"
   ]
  },
  {
   "cell_type": "code",
   "execution_count": null,
   "id": "02f034bf-d4c0-4d6f-abe9-7f5782d324b5",
   "metadata": {},
   "outputs": [],
   "source": [
    "\"Strings can \" + 'be concatenated'"
   ]
  },
  {
   "cell_type": "code",
   "execution_count": null,
   "id": "5e2e0158-934a-44a7-bb03-80dff96383a5",
   "metadata": {},
   "outputs": [],
   "source": [
    "'Strings can be' + ' repeated' * 3"
   ]
  },
  {
   "cell_type": "markdown",
   "id": "3600d18e-6d78-4dab-b199-3b61e39e212f",
   "metadata": {},
   "source": [
    "Values can be output by using the `print` function:"
   ]
  },
  {
   "cell_type": "code",
   "execution_count": null,
   "id": "b75cd981-6d42-4d87-9bc9-e16ad7a7ce08",
   "metadata": {},
   "outputs": [],
   "source": [
    "multiline_str = \"\"\"\n",
    "Some strings can span\n",
    "multiple lines\n",
    "\"\"\"\n",
    "print(multiline_str)"
   ]
  },
  {
   "cell_type": "markdown",
   "id": "04df8bf6-ce48-406d-8e46-f5c0a28bfbfa",
   "metadata": {},
   "source": [
    "Strings can be indexed with square brackets `[]`"
   ]
  },
  {
   "cell_type": "code",
   "execution_count": null,
   "id": "83b78c40-6721-4d19-9fd7-2f121377ca6a",
   "metadata": {},
   "outputs": [],
   "source": [
    "s = 'Another string of characters'\n",
    "print(s[0])"
   ]
  },
  {
   "cell_type": "markdown",
   "id": "27d73b58-b507-42c4-b264-7ad51f435282",
   "metadata": {},
   "source": [
    "Substrings can be obtained by using the slicing syntax `[start:end]`"
   ]
  },
  {
   "cell_type": "code",
   "execution_count": null,
   "id": "efdb0424-5a3b-4004-8b66-a73689ba6098",
   "metadata": {},
   "outputs": [],
   "source": [
    "print(s[0:3])\n",
    "print(s[:7])\n",
    "print(s[:10:2])"
   ]
  },
  {
   "cell_type": "markdown",
   "id": "9b40a039-a319-4659-b92d-8d8d02c564d5",
   "metadata": {},
   "source": [
    "Indexing from the end of the string works with negative indices:"
   ]
  },
  {
   "cell_type": "code",
   "execution_count": null,
   "id": "9ffd07ab-a978-426c-b610-38e513262a77",
   "metadata": {},
   "outputs": [],
   "source": [
    "print(s[-1])\n",
    "print(s[-7:])"
   ]
  },
  {
   "cell_type": "markdown",
   "id": "9c854120-bc4a-4022-994c-9db23f533160",
   "metadata": {},
   "source": [
    "This indexing mechanism cannot be used to change a string. Strings are immutable!"
   ]
  },
  {
   "cell_type": "code",
   "execution_count": null,
   "id": "74d28727-cda5-42b5-b5ee-85238caf5a75",
   "metadata": {},
   "outputs": [],
   "source": [
    "# Uncomment and run\n",
    "#s[0] = 'B'"
   ]
  },
  {
   "cell_type": "markdown",
   "id": "432e6bed-0282-43de-bab7-21939e713cda",
   "metadata": {},
   "source": [
    "The length of the string can be obtained with the `len` function:"
   ]
  },
  {
   "cell_type": "code",
   "execution_count": null,
   "id": "6408e037-4fa2-47d6-b7d0-1dd825d46c8d",
   "metadata": {},
   "outputs": [],
   "source": [
    "len(s)"
   ]
  },
  {
   "cell_type": "markdown",
   "id": "c3a853ed-a644-4693-8c85-e075566514ec",
   "metadata": {},
   "source": [
    "Numbers can be converted to strings with the `str` function:"
   ]
  },
  {
   "cell_type": "code",
   "execution_count": null,
   "id": "70f10e9b-ef6e-4181-9cf3-bcb5abcc8018",
   "metadata": {},
   "outputs": [],
   "source": [
    "'Interger: ' + str(4) + ' Float: ' + str(4.0)"
   ]
  },
  {
   "cell_type": "markdown",
   "id": "795b08d6-c1f6-4ef8-91c1-4cc7cee50d00",
   "metadata": {},
   "source": [
    "An easier way to build strings from variables and expressions is to use formatted string literals or \"[f-strings](https://docs.python.org/3/reference/lexical_analysis.html#f-strings)\""
   ]
  },
  {
   "cell_type": "code",
   "execution_count": null,
   "id": "e79b1aa6-c1fc-4fe6-8568-fe3f069d66d2",
   "metadata": {},
   "outputs": [],
   "source": [
    "a = 12\n",
    "b = 3\n",
    "print(f'{a} divided by {b} equals {a / b}')"
   ]
  },
  {
   "cell_type": "markdown",
   "id": "61346be1-2816-42bd-8895-c73c4fc2e893",
   "metadata": {},
   "source": [
    "## Python data structures\n",
    "\n",
    "Everything in Python, including numbers, is an object. They have **attributes** and **methods**, both can be accessed with the `.` notation:"
   ]
  },
  {
   "cell_type": "code",
   "execution_count": null,
   "id": "4af43b49-3483-4453-a3cd-8623042efd00",
   "metadata": {},
   "outputs": [],
   "source": [
    "a = 'some string'\n",
    "print(a.count('s'))\n",
    "print(a.upper())\n",
    "\n",
    "b = 1 + 2j\n",
    "print(b.real)"
   ]
  },
  {
   "cell_type": "markdown",
   "id": "3d638252-9e6b-4fb5-bceb-285fecff873c",
   "metadata": {},
   "source": [
    "You can know which attributes and methods are available for an object with the `dir` function:"
   ]
  },
  {
   "cell_type": "code",
   "execution_count": null,
   "id": "606132fb-207e-4773-821a-2a8a9a7a1fe5",
   "metadata": {},
   "outputs": [],
   "source": [
    "dir(a)"
   ]
  },
  {
   "cell_type": "markdown",
   "id": "e1a7df77-f766-452c-930c-846d9fba329d",
   "metadata": {},
   "source": [
    "### Lists\n",
    "\n",
    "Lists are mutable sequences of objects."
   ]
  },
  {
   "cell_type": "code",
   "execution_count": null,
   "id": "0db30f0c-daf2-4ad7-be33-ffbc9e39748c",
   "metadata": {},
   "outputs": [],
   "source": [
    "[1, 2, 3]"
   ]
  },
  {
   "cell_type": "code",
   "execution_count": null,
   "id": "79136d0c-e219-4127-8fa5-65861aafb778",
   "metadata": {},
   "outputs": [],
   "source": [
    "[1, 2, 3] + [4, 5, 6]"
   ]
  },
  {
   "cell_type": "markdown",
   "id": "9d11836a-88b9-43be-a12f-cc8a1bef50da",
   "metadata": {},
   "source": [
    "Lists can be indexed and sliced in the same way as strings"
   ]
  },
  {
   "cell_type": "code",
   "execution_count": null,
   "id": "96291cba-6e63-4ceb-a4e6-bc0848be3173",
   "metadata": {},
   "outputs": [],
   "source": [
    "a = [1, 2, 3, 5]\n",
    "print(a[0])\n",
    "print(a[:2])\n",
    "print(len(a))"
   ]
  },
  {
   "cell_type": "markdown",
   "id": "7cdae12f-979d-4d69-bd38-8546d9a471c8",
   "metadata": {},
   "source": [
    "Lists are mutable objects"
   ]
  },
  {
   "cell_type": "code",
   "execution_count": null,
   "id": "443f68f6-f93d-471d-b791-2078bdb38faa",
   "metadata": {},
   "outputs": [],
   "source": [
    "a = [4, 2, 7, 1]\n",
    "print(a)\n",
    "a[0] = 10\n",
    "print(a)"
   ]
  },
  {
   "cell_type": "markdown",
   "id": "6bdc1848-5f28-432d-b544-cd755c2bbd43",
   "metadata": {},
   "source": [
    "Lists can be sorted in place with the `sort()` method, or a new sorted list can be obtained with the `sorted` function:"
   ]
  },
  {
   "cell_type": "code",
   "execution_count": null,
   "id": "d501b55d-c923-42ce-b0d9-f0a0ca6567f7",
   "metadata": {},
   "outputs": [],
   "source": [
    "print('a =', a)\n",
    "b = sorted(a)\n",
    "print('b =', b)\n",
    "print('a =', a)\n",
    "a.sort()\n",
    "print('a =', a)"
   ]
  },
  {
   "cell_type": "markdown",
   "id": "58d6f905-7ff7-4fb4-9171-b7755430ba13",
   "metadata": {},
   "source": [
    "Like for all objects in python, a variable is simply a name for the object. `b = a` does not trigger a copy of the list."
   ]
  },
  {
   "cell_type": "code",
   "execution_count": null,
   "id": "d25c2585-278d-4361-a644-ce4116f7052b",
   "metadata": {},
   "outputs": [],
   "source": [
    "a = [1, 4.5, 'a string']\n",
    "b = a\n",
    "b[-1] = 'another string'\n",
    "print(a)"
   ]
  },
  {
   "cell_type": "markdown",
   "id": "1a2a1b8c-8778-440e-8f78-5c236486bdc6",
   "metadata": {},
   "source": [
    "Copies have to be done explicitely:"
   ]
  },
  {
   "cell_type": "code",
   "execution_count": null,
   "id": "78157bf0-dc0f-4699-adb1-244def845a17",
   "metadata": {},
   "outputs": [],
   "source": [
    "a = [1, 4.5, 'a string']\n",
    "b = a.copy()\n",
    "b[-1] = 'another string'\n",
    "print(a)\n",
    "print(b)"
   ]
  },
  {
   "cell_type": "markdown",
   "id": "9a47f232-f5bf-45a7-bc3d-0ea9acf4441d",
   "metadata": {},
   "source": [
    "Since lists can contain different types, they can also be nested:"
   ]
  },
  {
   "cell_type": "code",
   "execution_count": null,
   "id": "d50e0b9f-dd29-40a9-adff-0bfe4e76adf0",
   "metadata": {},
   "outputs": [],
   "source": [
    "a = [[1, 2, 3], [4, 5, 6]]\n",
    "print(a)\n",
    "print(a[0])\n",
    "print(a[1][0])"
   ]
  },
  {
   "cell_type": "markdown",
   "id": "1d3a5ab7-1712-40a7-bb7f-630e3db83bd7",
   "metadata": {},
   "source": [
    "Empty lists are created with `[]` and single elements can be added with the `append` method:"
   ]
  },
  {
   "cell_type": "code",
   "execution_count": null,
   "id": "0f6fce1f-295a-4752-94d7-41a82bd3e803",
   "metadata": {},
   "outputs": [],
   "source": [
    "a = []\n",
    "print(a)\n",
    "a.append(4)\n",
    "a.append(5)\n",
    "print(a)"
   ]
  },
  {
   "cell_type": "markdown",
   "id": "89f467d5-5b02-438f-aad8-eb1121e0b11f",
   "metadata": {},
   "source": [
    "### Tuples\n",
    "\n",
    "Tuples are similar to lists but are immutable."
   ]
  },
  {
   "cell_type": "code",
   "execution_count": null,
   "id": "554e8481-2adb-420b-aee2-356bd947d19d",
   "metadata": {},
   "outputs": [],
   "source": [
    "a = (1, 2.0, 'three')\n",
    "print(a)\n",
    "print(len(a))"
   ]
  },
  {
   "cell_type": "code",
   "execution_count": null,
   "id": "61adc01a-ed01-4436-92c9-cb5a1a484493",
   "metadata": {},
   "outputs": [],
   "source": [
    "a += (4, 'five', 6.0) # Equivalent to a = a + ...\n",
    "print(a)"
   ]
  },
  {
   "cell_type": "code",
   "execution_count": null,
   "id": "b7050899-4368-4502-8524-4f6c24ed48b9",
   "metadata": {},
   "outputs": [],
   "source": [
    "print(a[2])\n",
    "print(a[3:])"
   ]
  },
  {
   "cell_type": "markdown",
   "id": "9e5b1dd0-0fc1-4610-8052-c50b20eeb3ce",
   "metadata": {},
   "source": [
    "Elements cannot be modified:"
   ]
  },
  {
   "cell_type": "code",
   "execution_count": null,
   "id": "cdef8a39-3736-49b9-a75a-bdbb0022a0ae",
   "metadata": {},
   "outputs": [],
   "source": [
    "# Uncomment and run\n",
    "#a[0] = 'one'"
   ]
  },
  {
   "cell_type": "markdown",
   "id": "514b4157-a36a-4822-aec3-2d8cf8eaf7bb",
   "metadata": {},
   "source": [
    "Tuples can be created from lists and vice-versa:"
   ]
  },
  {
   "cell_type": "code",
   "execution_count": null,
   "id": "ba5ee327-c1aa-42f4-b385-7f5806be38a5",
   "metadata": {},
   "outputs": [],
   "source": [
    "l = list(a)\n",
    "print(l)\n",
    "t = tuple(l)\n",
    "print(t)"
   ]
  },
  {
   "cell_type": "markdown",
   "id": "d6e2d904-b2a3-4be9-b4d1-9e1754ca70af",
   "metadata": {},
   "source": [
    "Tuples can be \"packed\":"
   ]
  },
  {
   "cell_type": "code",
   "execution_count": null,
   "id": "c47310b0-94fb-456b-929b-3fca380cd80e",
   "metadata": {},
   "outputs": [],
   "source": [
    "a = 1, 'two', 3.0 # No need for parentheses\n",
    "print(a)"
   ]
  },
  {
   "cell_type": "markdown",
   "id": "051356c6-c4bb-4789-ba3a-2e2befe83b5a",
   "metadata": {},
   "source": [
    "and \"unpacked\":"
   ]
  },
  {
   "cell_type": "code",
   "execution_count": null,
   "id": "32230028-ff63-4318-a5d8-dedf9c894339",
   "metadata": {},
   "outputs": [],
   "source": [
    "a1, a2, a3 = a\n",
    "print(a1, a2, a3)"
   ]
  },
  {
   "cell_type": "markdown",
   "id": "6b588808-b35c-4737-b15a-f88013ed21ed",
   "metadata": {},
   "source": [
    "The same unpacking mechanism works for any iterable, like lists:"
   ]
  },
  {
   "cell_type": "code",
   "execution_count": null,
   "id": "21ce2e45-2405-416c-b6c0-470d9af3f29f",
   "metadata": {},
   "outputs": [],
   "source": [
    "l = list(a)\n",
    "l1, l2, l3 = l\n",
    "print(l1, l2, l3)"
   ]
  },
  {
   "cell_type": "markdown",
   "id": "6fe8b609-fe85-4550-92b3-7a08a8d7abc4",
   "metadata": {},
   "source": [
    "The values can be partially unpacked using `*`:"
   ]
  },
  {
   "cell_type": "code",
   "execution_count": null,
   "id": "dd0e4639-e27b-4f8d-9ac9-2132270ac05a",
   "metadata": {},
   "outputs": [],
   "source": [
    "l1, *others = l\n",
    "print(l1)\n",
    "print(others)"
   ]
  },
  {
   "cell_type": "markdown",
   "id": "5a2a7d98-6669-4ee5-95dc-3fd3f4c42d30",
   "metadata": {},
   "source": [
    "### Dictionaries\n",
    "\n",
    "Dictionaries are associative containers that are indexed by immutable keys."
   ]
  },
  {
   "cell_type": "code",
   "execution_count": null,
   "id": "60357977-f85b-46c9-a0fa-83538bbb9371",
   "metadata": {},
   "outputs": [],
   "source": [
    "a = {'one': 1, 'two': 2.0, 3: 'three'}\n",
    "print(a)\n",
    "print(len(a))"
   ]
  },
  {
   "cell_type": "code",
   "execution_count": null,
   "id": "bb0d9c39-d365-4dfb-9751-e5848321943a",
   "metadata": {},
   "outputs": [],
   "source": [
    "a['one']"
   ]
  },
  {
   "cell_type": "code",
   "execution_count": null,
   "id": "ca7bee40-a752-4fed-bdcc-6902e15bdefa",
   "metadata": {},
   "outputs": [],
   "source": [
    "a['two'] = 20\n",
    "print(a)"
   ]
  },
  {
   "cell_type": "code",
   "execution_count": null,
   "id": "18f79425-628a-4030-8fbd-bf3f68d9a9de",
   "metadata": {},
   "outputs": [],
   "source": [
    "a['newkey'] = [1, 2, 3]\n",
    "print(a)"
   ]
  },
  {
   "cell_type": "code",
   "execution_count": null,
   "id": "b7efd613-9201-4475-b1f4-28175e53cbf3",
   "metadata": {},
   "outputs": [],
   "source": [
    "del a['two']\n",
    "print(a)"
   ]
  },
  {
   "cell_type": "markdown",
   "id": "9ea6e79c-9c21-49f2-958d-bc9b37d09539",
   "metadata": {},
   "source": [
    "Lists cannot be used as keys:"
   ]
  },
  {
   "cell_type": "code",
   "execution_count": null,
   "id": "fa4f1d6c-3035-4c28-af3a-bdb008545a47",
   "metadata": {},
   "outputs": [],
   "source": [
    "invalidKey = [1, 2]\n",
    "# Uncomment and run\n",
    "# a[invalidKey] = 5"
   ]
  },
  {
   "cell_type": "code",
   "execution_count": null,
   "id": "053a03f7-db74-4fcf-95f2-f30ac6f5ae88",
   "metadata": {},
   "outputs": [],
   "source": [
    "print(a.keys())\n",
    "print(list(a))"
   ]
  },
  {
   "cell_type": "code",
   "execution_count": null,
   "id": "09990a1d-7a49-4e4a-8b1a-81d55a9824f4",
   "metadata": {},
   "outputs": [],
   "source": [
    "print(a.values())\n",
    "list(a.items())"
   ]
  },
  {
   "cell_type": "markdown",
   "id": "d04e8912-0e97-4362-825f-54d0b1067231",
   "metadata": {},
   "source": [
    "## Flow control statements\n",
    "\n",
    "So far we only evaluated expressions. To write programs, we need flow control statements like conditional branching (`if`) or loops (`for` or `while`).\n",
    "\n",
    "### Comparison operators and booleans\n",
    "\n",
    "Numeric comparison operators are similar to other languages: `>`, `>=`, `<`, `<=`, `==`, `!=`\n",
    "They return `True` or `False` which are of type `bool`."
   ]
  },
  {
   "cell_type": "code",
   "execution_count": null,
   "id": "3bebaef8-99fe-4a1b-8ffb-87f918111ea8",
   "metadata": {},
   "outputs": [],
   "source": [
    "a, b, c = 1, 2, 3\n",
    "print(a > b)\n",
    "print(b >= 2)\n",
    "print(a != c)\n",
    "print(type(a == 1))"
   ]
  },
  {
   "cell_type": "markdown",
   "id": "a48f90ab-b260-46ab-8334-1a39d1474214",
   "metadata": {},
   "source": [
    "Comparison operators can be chained:"
   ]
  },
  {
   "cell_type": "code",
   "execution_count": null,
   "id": "14853d37-db97-4848-b750-9a5b62519a3f",
   "metadata": {},
   "outputs": [],
   "source": [
    "print(a < b < c)"
   ]
  },
  {
   "cell_type": "markdown",
   "id": "b568a6f8-1057-445e-aaff-0734d778dc9f",
   "metadata": {},
   "source": [
    "Booleans can be combined with `and`, `or`, and `not`:"
   ]
  },
  {
   "cell_type": "code",
   "execution_count": null,
   "id": "d0a4a5ca-527b-4580-83ca-5ed68a065bd3",
   "metadata": {},
   "outputs": [],
   "source": [
    "print(a < b and b < c)"
   ]
  },
  {
   "cell_type": "markdown",
   "id": "e3d65694-aa8d-4d7d-bd0a-3e0f11a9c523",
   "metadata": {},
   "source": [
    "The presence of elements in containers can be checked with `in` or `not in`:"
   ]
  },
  {
   "cell_type": "code",
   "execution_count": null,
   "id": "ee6ed517-548a-475a-970e-55d052ebf112",
   "metadata": {},
   "outputs": [],
   "source": [
    "lst = [1, 2, 3, 5, 8]\n",
    "dct = {'ichi': 1, 'ni': 2, 'san': 3}\n",
    "print(3 in lst)\n",
    "print(13 not in lst)\n",
    "print(2 in dct)\n",
    "print('ni' in dct)"
   ]
  },
  {
   "cell_type": "markdown",
   "id": "eafe4923-c2f8-4f03-b9e2-3e15272a286e",
   "metadata": {},
   "source": [
    "### If statement\n",
    "\n",
    "Do something only if a condition is `True`:"
   ]
  },
  {
   "cell_type": "code",
   "execution_count": null,
   "id": "747795c1-4b8b-4aa9-9f90-b622ac08bd17",
   "metadata": {},
   "outputs": [],
   "source": [
    "x = -3\n",
    "if x > 0:\n",
    "    print('x is strictly positive')\n",
    "print(x)"
   ]
  },
  {
   "cell_type": "code",
   "execution_count": null,
   "id": "36571cfa-1d19-4773-a3cf-84d2598cdabf",
   "metadata": {},
   "outputs": [],
   "source": [
    "if x > 0:\n",
    "    print('x is strictly positive')\n",
    "else:\n",
    "    print('x is zero or negative')"
   ]
  },
  {
   "cell_type": "code",
   "execution_count": null,
   "id": "57d53518-44a0-4ff5-bea7-4764cc24500a",
   "metadata": {},
   "outputs": [],
   "source": [
    "if x > 0:\n",
    "    print('x is strictly positive')\n",
    "elif x < 0:\n",
    "    print('x is negative')\n",
    "else:\n",
    "    print('x is zero')"
   ]
  },
  {
   "cell_type": "markdown",
   "id": "2531f4f6-ba7d-43d0-8c23-0c04316d0f1c",
   "metadata": {},
   "source": [
    "<div class=\"alert alert-block alert-info\">\n",
    "<b>Exercise 1: Collatz step</b><br>\n",
    "</div>\n",
    "\n",
    "(See [Collatz conjecture](https://en.wikipedia.org/wiki/Collatz_conjecture))\n",
    "\n",
    "Read a value from the variable `x`, first check that it is a strictly positive integer. If not, print an error.\n",
    "\n",
    "If it is a strictly positive integer, modify `x` such that:\n",
    "- if `x` is even, divide it by two;\n",
    "- if it is odd, multiply it by 3 and add 1.\n",
    "    \n",
    "Then print `x`"
   ]
  },
  {
   "cell_type": "code",
   "execution_count": null,
   "id": "329e5bec-40a8-4566-858f-98fcaf1cc6a9",
   "metadata": {},
   "outputs": [],
   "source": [
    "x = 5987\n",
    "\n",
    "# Write your code here"
   ]
  },
  {
   "cell_type": "code",
   "execution_count": null,
   "id": "36bde38d-897d-4c8d-b6c0-0df599561a94",
   "metadata": {},
   "outputs": [],
   "source": [
    "# Uncomment for solution\n",
    "#%load exercises/ex1.py"
   ]
  },
  {
   "cell_type": "markdown",
   "id": "32c5dcf1-f778-483c-a46f-97ada1e3d80c",
   "metadata": {},
   "source": [
    "### While loop\n",
    "\n",
    "Repeat some code as long as some condition is `True`"
   ]
  },
  {
   "cell_type": "code",
   "execution_count": null,
   "id": "9e1ac5f8-be7e-4ed2-a993-766487927e39",
   "metadata": {},
   "outputs": [],
   "source": [
    "a = 0\n",
    "while a < 10:\n",
    "    print('Adding one')\n",
    "    a += 1\n",
    "print(a)"
   ]
  },
  {
   "cell_type": "markdown",
   "id": "3e9d51e3-dd3c-4c7a-a8d5-292286d6a740",
   "metadata": {},
   "source": [
    "Loops can also be exited with the `break` statement"
   ]
  },
  {
   "cell_type": "code",
   "execution_count": null,
   "id": "1520e20a-238a-4c26-b80e-ee0d2e20c94c",
   "metadata": {},
   "outputs": [],
   "source": [
    "a = 0\n",
    "while a < 10:\n",
    "    print('Adding one')\n",
    "    a += 1\n",
    "    if a > 5:\n",
    "        print('Stopping early')\n",
    "        break\n",
    "print(a)"
   ]
  },
  {
   "cell_type": "markdown",
   "id": "00bec31d-0501-46a6-b970-d3e30eea8770",
   "metadata": {},
   "source": [
    "\n",
    "<div class=\"alert alert-block alert-info\">\n",
    "<b>Exercise 2: Collatz loop</b><br>\n",
    "</div>\n",
    "\n",
    "Start from some value `x` and repeat the step that we coded in exercise 1 until `x` is equal to 1. Print the value of `x` after each step."
   ]
  },
  {
   "cell_type": "code",
   "execution_count": null,
   "id": "e3bf3ed2-b416-4469-919a-3d4d91a0bfbe",
   "metadata": {},
   "outputs": [],
   "source": [
    "x = 5987\n",
    "\n",
    "# Write your code here"
   ]
  },
  {
   "cell_type": "code",
   "execution_count": null,
   "id": "642e9c6f-e479-43e7-ace5-af04c6514db2",
   "metadata": {},
   "outputs": [],
   "source": [
    "# Uncomment for solution\n",
    "#%load exercises/ex2.py"
   ]
  },
  {
   "cell_type": "markdown",
   "id": "c08f2cc1-41f2-4d1f-aebc-2f6e898afb90",
   "metadata": {},
   "source": [
    "### For loop\n",
    "\n",
    "For loops execute some code for each element of an iterable."
   ]
  },
  {
   "cell_type": "code",
   "execution_count": null,
   "id": "1418715a-3b78-468c-93bd-02469d0c52d9",
   "metadata": {},
   "outputs": [],
   "source": [
    "lst = [0, 1, 2, 3, 4]\n",
    "for x in lst:\n",
    "    print(x)"
   ]
  },
  {
   "cell_type": "code",
   "execution_count": null,
   "id": "591c3650-c437-422d-8305-919171215a0e",
   "metadata": {},
   "outputs": [],
   "source": [
    "total = 0\n",
    "for x in range(5):\n",
    "    total += x\n",
    "    print(x)\n",
    "print('Sum:', total)"
   ]
  },
  {
   "cell_type": "code",
   "execution_count": null,
   "id": "78ca643b-64bf-4cfe-bca2-0b1a4c3726d8",
   "metadata": {},
   "outputs": [],
   "source": [
    "print('Sum:', sum(range(5)))"
   ]
  },
  {
   "cell_type": "markdown",
   "id": "642bd9ed-5d04-40bc-81ee-eda4ce03cfd7",
   "metadata": {},
   "source": [
    "If you need access to both the index and the value of an element while iterating, use `enumerate`:"
   ]
  },
  {
   "cell_type": "code",
   "execution_count": null,
   "id": "6df12389-0d8c-4293-8faf-2c9ec9dfc85c",
   "metadata": {},
   "outputs": [],
   "source": [
    "lst = [1, 2, 3, 5, 8]\n",
    "for i, x in enumerate(lst):\n",
    "    print(f'Index: {i}, Value: {x}')"
   ]
  },
  {
   "cell_type": "markdown",
   "id": "3c12a018-28bc-4508-96e7-77e26308489e",
   "metadata": {},
   "source": [
    "Iterating on several lists of the same size at once with `zip`:"
   ]
  },
  {
   "cell_type": "code",
   "execution_count": null,
   "id": "deaad7c6-f766-4091-af0f-6adc46f11e65",
   "metadata": {},
   "outputs": [],
   "source": [
    "lst1 = [1, 2, 3, 5, 8]\n",
    "lst2 = ['one', 'two', 'three', 'five', 'eight']\n",
    "\n",
    "for num, name in zip(lst1, lst2):\n",
    "    print(f'{num} is {name}')"
   ]
  },
  {
   "cell_type": "markdown",
   "id": "3cfebbad-d3fe-4186-b619-229ff6613d23",
   "metadata": {},
   "source": [
    "Note that iterating on a range is not exactly the same as iterating on an equivalent list:"
   ]
  },
  {
   "cell_type": "code",
   "execution_count": null,
   "id": "e608f858-094e-454b-8cdd-29283bdab93f",
   "metadata": {},
   "outputs": [],
   "source": [
    "%%timeit -n 10\n",
    "range(2**16)"
   ]
  },
  {
   "cell_type": "code",
   "execution_count": null,
   "id": "ae5df6bf-0628-4d72-a9c9-21487a93f597",
   "metadata": {},
   "outputs": [],
   "source": [
    "%%timeit -n 10\n",
    "list(range(2**16))"
   ]
  },
  {
   "cell_type": "markdown",
   "id": "7e35b2c7-7b19-4986-8374-5e618cf94f06",
   "metadata": {},
   "source": [
    "Iterating on dictionaries:"
   ]
  },
  {
   "cell_type": "code",
   "execution_count": null,
   "id": "5583ec19-1997-419d-a2b4-e10f7206435c",
   "metadata": {},
   "outputs": [],
   "source": [
    "dct = {'one': 1, 'three': 3, 'nine': 9}\n",
    "for key, value in dct.items():\n",
    "    print(f'{key} -> {value}')"
   ]
  },
  {
   "cell_type": "markdown",
   "id": "671ea55c-65bc-49f2-a8e9-89d4c3e95da7",
   "metadata": {},
   "source": [
    "\n",
    "<div class=\"alert alert-block alert-info\">\n",
    "<b>Exercise 3: List of squares</b><br>\n",
    "</div>\n",
    "\n",
    "Create a list of squares of integers between `1` and `N` that are not divisible by 3. Reminder: `lst.append(x)` to add `x` to the end of the `lst` list."
   ]
  },
  {
   "cell_type": "code",
   "execution_count": null,
   "id": "db536200-d906-4950-8f79-ff2fe6601a1f",
   "metadata": {},
   "outputs": [],
   "source": [
    "lst = []\n",
    "N = 10\n",
    "\n",
    "# Write your code here"
   ]
  },
  {
   "cell_type": "code",
   "execution_count": null,
   "id": "91330cee-d035-4c42-b2cf-529530913c5d",
   "metadata": {},
   "outputs": [],
   "source": [
    "# Uncomment for solution\n",
    "#%load exercises/ex3.py"
   ]
  },
  {
   "cell_type": "markdown",
   "id": "dada97d6-dbac-4fa1-9413-130e70deef2e",
   "metadata": {},
   "source": [
    "### List comprehensions\n",
    "\n",
    "This type of code can be written in a more direct way in Python:"
   ]
  },
  {
   "cell_type": "code",
   "execution_count": null,
   "id": "ae232ac6-ec0d-4273-889b-937581528788",
   "metadata": {},
   "outputs": [],
   "source": [
    "N = 10\n",
    "lst = [x**2 for x in range(1, N + 1) if x % 3 > 0]\n",
    "print(lst)"
   ]
  },
  {
   "cell_type": "markdown",
   "id": "5eb49531-3f21-4a0e-802b-e092f56776f2",
   "metadata": {},
   "source": [
    "Similar code can be written for dictionaries:"
   ]
  },
  {
   "cell_type": "code",
   "execution_count": null,
   "id": "dd76ed00-e0d4-4ce9-84ce-057a9e797b77",
   "metadata": {},
   "outputs": [],
   "source": [
    "dct = {x**2: x for x in range(1, N + 1) if x % 3 > 0}\n",
    "print(dct)"
   ]
  },
  {
   "cell_type": "markdown",
   "id": "396d9745-f9ea-4489-bf8d-be71ebcb56e4",
   "metadata": {},
   "source": [
    "## Functions\n",
    "\n",
    "We already used a number of Python builtin functions, we will now see how to define our own functions.\n",
    "A function encapsulates some code and makes it easily reusable. It can take arguments and returns a value."
   ]
  },
  {
   "cell_type": "code",
   "execution_count": null,
   "id": "6d13939b-30d6-4db0-8f2c-d8044fea019c",
   "metadata": {},
   "outputs": [],
   "source": [
    "def sum_of_squares(lst):\n",
    "    \"\"\"Return the sum of the squares of the elements in lst\"\"\"\n",
    "    tot = 0\n",
    "    for x in lst:\n",
    "        tot += x**2\n",
    "    return tot\n",
    "\n",
    "l = [1, 2, 3, 5, 8]\n",
    "sum_of_squares(l)"
   ]
  },
  {
   "cell_type": "markdown",
   "id": "a6fbd9fb-5476-412d-970c-0b8c66e32a42",
   "metadata": {},
   "source": [
    "`l` is given as argument to the function. Inside the function, it is called `lst`.\n",
    "Variables declared inside a function are local to this function."
   ]
  },
  {
   "cell_type": "code",
   "execution_count": null,
   "id": "a32dda5f-78d8-4edd-a880-daed4e517af4",
   "metadata": {},
   "outputs": [],
   "source": [
    "# Uncomment and run\n",
    "#print(tot)"
   ]
  },
  {
   "cell_type": "markdown",
   "id": "710df54d-ab68-4110-be34-41b25eaf9e45",
   "metadata": {},
   "source": [
    "### Side effects\n",
    "\n",
    "As seen previously, variables are only references to the actual object, so if a function modifies one of the objects it receives as arguments, the modification will persist after the call to the function."
   ]
  },
  {
   "cell_type": "code",
   "execution_count": null,
   "id": "dbf5c8d3-47b8-4509-8fcb-1d00105b2821",
   "metadata": {},
   "outputs": [],
   "source": [
    "def append_val(lst, value):\n",
    "    \"\"\"Append value to the end of lst.\"\"\"\n",
    "    lst.append(value)\n",
    "    # No return statement means the function returns None\n",
    "\n",
    "l = [1, 2, 3, 5]\n",
    "print(l)\n",
    "append_val(l, 8)\n",
    "print(append_val(l, 13))\n",
    "print(l)"
   ]
  },
  {
   "cell_type": "code",
   "execution_count": null,
   "id": "2abc8e51-7c14-4628-aa16-9ffdb22c0eb7",
   "metadata": {},
   "outputs": [],
   "source": [
    "l1 = [1, 2, 3, 5]\n",
    "l2 = l1.copy()\n",
    "append_val(l2, 8)\n",
    "print(l1)\n",
    "print(l2)"
   ]
  },
  {
   "cell_type": "markdown",
   "id": "9cbaf090-86f7-42ee-acfa-e18acde81707",
   "metadata": {},
   "source": [
    "### Default values and keyword arguments\n",
    "\n",
    "Arguments can have default values:"
   ]
  },
  {
   "cell_type": "code",
   "execution_count": null,
   "id": "79b1cda0-1bd7-43a3-bd5f-5ca634d0b408",
   "metadata": {},
   "outputs": [],
   "source": [
    "def sumpow(lst, pwr=1, threshold=None):\n",
    "    \"\"\"Return the sum of elements in lst raised to the power pwr.\n",
    "    If threshold is supplied, only consider elements that are above it.\n",
    "    \"\"\"\n",
    "    return sum(v**pwr for v in lst if threshold is None or v >= threshold)\n",
    "\n",
    "l = [-1, 5, 9, -3, 8]\n",
    "\n",
    "print(sum(l))\n",
    "print(sumpow(l))\n",
    "print(sumpow(l, 1))\n",
    "print(sumpow(l, 2))\n",
    "print(sumpow(l, 2, 0))"
   ]
  },
  {
   "cell_type": "markdown",
   "id": "aa84a346-d109-4603-b280-80719784e82d",
   "metadata": {},
   "source": [
    "keyword arguments can be set with their names:"
   ]
  },
  {
   "cell_type": "code",
   "execution_count": null,
   "id": "2a75dfc5-d844-4bf5-b8ee-15324d1a0b40",
   "metadata": {},
   "outputs": [],
   "source": [
    "print(sumpow(l, threshold=0))"
   ]
  },
  {
   "cell_type": "markdown",
   "id": "ee1b190f-731c-449c-a5f6-2f13a41282a7",
   "metadata": {},
   "source": [
    "### Variable number of arguments\n",
    "\n",
    "Functions can take variable number of positional arguments with `*args` and variable number of keyword argument with `**kwargs`."
   ]
  },
  {
   "cell_type": "code",
   "execution_count": null,
   "id": "191ff04b-598e-4425-b349-154edc2ce410",
   "metadata": {},
   "outputs": [],
   "source": [
    "def allEven(*args):\n",
    "    \"\"\"Return whether all given arguments are even.\"\"\"\n",
    "    return all(v % 2 == 0 for v in args)\n",
    "\n",
    "print(allEven())\n",
    "print(allEven(2, 8, 14))\n",
    "print(allEven(2, 8, 14, 1))"
   ]
  },
  {
   "cell_type": "code",
   "execution_count": null,
   "id": "fa1fc8d7-6f06-4166-ad68-0a508fdef3eb",
   "metadata": {},
   "outputs": [],
   "source": [
    "def example(*args, **kwargs):\n",
    "    print('Arguments:', args)\n",
    "    print('Keyword arguments:', kwargs)\n",
    "    \n",
    "example(1, 2, 5, name1=43, name2='test')"
   ]
  },
  {
   "cell_type": "code",
   "execution_count": null,
   "id": "ebf8114f-9850-4af4-a563-2ad40deab2a1",
   "metadata": {},
   "outputs": [],
   "source": [
    "def example2(arg1, arg2, *args, kwarg1='def1', kwarg2='def2', **kwargs):\n",
    "    print(f'Positional arguments\\n'\n",
    "        f'{arg1 = }\\n'\n",
    "        f'{arg2 = }\\n'\n",
    "        f'Variadic arguments\\n'\n",
    "        f'{args = }\\n'\n",
    "        f'Keyword arguments\\n'\n",
    "        f'{kwarg1 = }\\n'\n",
    "        f'{kwarg2 = }\\n'\n",
    "        f'Variadic keyword arguments\\n'\n",
    "        f'{kwargs = }'\n",
    "    )\n",
    "    \n",
    "lst = [1, 2, 3, 4]\n",
    "dct = {'kwarg2': 5, 'kwarg3': 6, 'kwarg4': 7}\n",
    "\n",
    "example2(*lst, **dct)"
   ]
  },
  {
   "cell_type": "markdown",
   "id": "97ef374a-d435-4d71-9bec-de601ed880b7",
   "metadata": {},
   "source": [
    "\n",
    "<div class=\"alert alert-block alert-info\">\n",
    "<b>Exercise 4: Back to Collatz</b><br>\n",
    "</div>\n",
    "\n",
    "Write a function that takes a starting positive integer `x` and returns the number of Collatz steps that were necessary to reach `1`."
   ]
  },
  {
   "cell_type": "code",
   "execution_count": null,
   "id": "bc826dba-2082-44dc-b719-98dd30661bc1",
   "metadata": {},
   "outputs": [],
   "source": [
    "# Write your code here\n",
    "\n",
    "# Testing code (to uncomment)\n",
    "# print([collatz_nb_steps(v) for v in range(126, 131)])"
   ]
  },
  {
   "cell_type": "code",
   "execution_count": null,
   "id": "cf586df3-354b-4802-8ced-b627dac092dd",
   "metadata": {},
   "outputs": [],
   "source": [
    "# Uncomment for solution\n",
    "#%load exercises/ex4.py"
   ]
  },
  {
   "cell_type": "markdown",
   "id": "130c6358-a9c3-4e83-b62a-5264e03b0afa",
   "metadata": {},
   "source": [
    "## Modules and packages\n",
    "\n",
    "Modules are usually `.py` files that contain python code and can be imported into other modules or in a python script. Packages are folders that contain a `__init__.py` file, python modules and potentially python subpackages.\n",
    "Both modules and packages are imported with the `import` statement."
   ]
  },
  {
   "cell_type": "code",
   "execution_count": null,
   "id": "d80cc9fa-b484-442c-aecd-ce518fad44a5",
   "metadata": {},
   "outputs": [],
   "source": [
    "import math\n",
    "\n",
    "math.exp(0)"
   ]
  },
  {
   "cell_type": "markdown",
   "id": "9eca5ee2-f1ab-4fb4-84d9-70fc746dbac1",
   "metadata": {},
   "source": [
    "Imported modules can be given an alias:"
   ]
  },
  {
   "cell_type": "code",
   "execution_count": null,
   "id": "5b28ee95-a8c9-4285-b146-01723845057c",
   "metadata": {},
   "outputs": [],
   "source": [
    "import math as mt\n",
    "\n",
    "mt.sin(mt.pi / 2)"
   ]
  },
  {
   "cell_type": "markdown",
   "id": "a62986d8-9bed-4d79-870b-6ded66cdf938",
   "metadata": {},
   "source": [
    "specific python objects can be imported from a module:"
   ]
  },
  {
   "cell_type": "code",
   "execution_count": null,
   "id": "3f738006-fa28-4057-8a2e-4c5aeb1f6e6e",
   "metadata": {},
   "outputs": [],
   "source": [
    "from math import sin\n",
    "from math import cos as my_cos\n",
    "\n",
    "print(sin(0))\n",
    "print(my_cos(0))"
   ]
  },
  {
   "cell_type": "code",
   "execution_count": null,
   "id": "66af2493-c23a-41da-87e1-ba6453172e94",
   "metadata": {},
   "outputs": [],
   "source": [
    "# Avoid using import * from different packages\n",
    "from math import *\n",
    "\n",
    "exp(0)"
   ]
  },
  {
   "cell_type": "markdown",
   "id": "5be6cc69-ae81-4b35-9ae0-48a7e6b3f108",
   "metadata": {},
   "source": [
    "A lot of things are already implemented in the python [standard library](https://docs.python.org/3/library/index.html).\n",
    "\n",
    "### Custom modules\n",
    "\n",
    "You can easily create Python module by writing `.py` files. For example, you can copy the definition of the `collatz_nb_steps` function we defined earlier into a `collatz.py` file that you create in the same directory as the notebook. You can then use the function with:"
   ]
  },
  {
   "cell_type": "code",
   "execution_count": null,
   "id": "e540daba-72de-472d-a8e1-5b6cb676bfbe",
   "metadata": {},
   "outputs": [],
   "source": [
    "# Uncomment and run after creating the collatz.py file\n",
    "#import collatz\n",
    "#collatz.collatz_nb_steps(1234)"
   ]
  },
  {
   "cell_type": "markdown",
   "id": "4ecab827-1a0e-4ee7-94fd-0d6da8d8c043",
   "metadata": {},
   "source": [
    "## File reading and writing\n",
    "\n",
    "Files can be opened with the `open` function in text mode or binary mode.\n",
    "\n",
    "### Reading from files in text mode"
   ]
  },
  {
   "cell_type": "code",
   "execution_count": null,
   "id": "d37a162f-df72-4ee7-86ae-f18d13cc55de",
   "metadata": {},
   "outputs": [],
   "source": [
    "file_path = 'data/test_file.txt'\n",
    "\n",
    "# Reading the whole file at once\n",
    "with open(file_path, 'r') as f:\n",
    "    print(repr(f.read()))"
   ]
  },
  {
   "cell_type": "code",
   "execution_count": null,
   "id": "2c190ac6-42b3-46ce-9699-5415d5e24d1f",
   "metadata": {},
   "outputs": [],
   "source": [
    "# Reading all lines\n",
    "with open(file_path, 'r') as f:\n",
    "    print(f.readlines())"
   ]
  },
  {
   "cell_type": "code",
   "execution_count": null,
   "id": "5e484114-b684-46d2-ab28-95e99ad62292",
   "metadata": {},
   "outputs": [],
   "source": [
    "# Reading line by line\n",
    "with open(file_path, 'r') as f:\n",
    "    for line in f:\n",
    "        print(repr(line))"
   ]
  },
  {
   "cell_type": "code",
   "execution_count": null,
   "id": "325d7c6f-d832-41f7-9fe8-9aa616259eba",
   "metadata": {},
   "outputs": [],
   "source": [
    "# Reading line by line and removing the newline characters\n",
    "with open(file_path, 'r') as f:\n",
    "    for line in f:\n",
    "        print(repr(line.strip()))"
   ]
  },
  {
   "cell_type": "markdown",
   "id": "4364c491-960b-448e-a185-5dce13d836eb",
   "metadata": {},
   "source": [
    "### Writing to files in text mode\n",
    "\n",
    "Files can be opened for writing with `'w'` which erases the existing contents of the file or `'a'` which appends to the end of the file."
   ]
  },
  {
   "cell_type": "code",
   "execution_count": null,
   "id": "603bf4ce-7dad-42c7-97b1-f10097106bd2",
   "metadata": {},
   "outputs": [],
   "source": [
    "file_path = 'data/output_file.txt'\n",
    "\n",
    "# Write to the file\n",
    "with open(file_path, 'w') as f:\n",
    "    f.write('First line in the output file')\n",
    "    f.write('Is this the second line?')\n",
    "    \n",
    "# Print the content of the file\n",
    "with open(file_path, 'r') as f:\n",
    "    print(f.read())"
   ]
  },
  {
   "cell_type": "code",
   "execution_count": null,
   "id": "6cb4a3ba-d483-4a8f-8069-bd24f89d0c26",
   "metadata": {},
   "outputs": [],
   "source": [
    "# Append to the file\n",
    "with open(file_path, 'a') as f:\n",
    "    f.write('\\n\\nAnother line\\n')\n",
    "    \n",
    "# Read the content of the file\n",
    "with open(file_path, 'r') as f:\n",
    "    print(f.read())"
   ]
  },
  {
   "cell_type": "markdown",
   "id": "b0b48b69-8841-412a-a8fd-9f29acbcfe94",
   "metadata": {},
   "source": [
    "It is also possible to open the file for both reading and writing with `'r+'`, see the [documentation for open](https://docs.python.org/3/library/functions.html#open)"
   ]
  },
  {
   "cell_type": "markdown",
   "id": "26e67c94-4005-480b-82e0-66f0edd8eebf",
   "metadata": {},
   "source": [
    "### Pickling data\n",
    "\n",
    "Python has a `pickle` module that allows serializing python objects to files, which can later be restored in a different python process."
   ]
  },
  {
   "cell_type": "code",
   "execution_count": null,
   "id": "20d7b520-c2bb-479c-950b-b8ca9717d2ed",
   "metadata": {},
   "outputs": [],
   "source": [
    "import pickle\n",
    "\n",
    "dct = {'lst': [1, 2, 3], 'subdct': {'one': 1, 'two': 2}}\n",
    "print(dct)\n",
    "\n",
    "file_path = 'test.pkl'\n",
    "with open(file_path, 'wb') as f:\n",
    "    pickle.dump(dct, f)"
   ]
  },
  {
   "cell_type": "code",
   "execution_count": null,
   "id": "26fdcb41-544a-4830-a2cf-8aba21642876",
   "metadata": {},
   "outputs": [],
   "source": [
    "with open(file_path, 'rb') as f:\n",
    "    dct2 = pickle.load(f)\n",
    "\n",
    "print(dct2)"
   ]
  },
  {
   "cell_type": "markdown",
   "id": "b604bd6b-5fff-47d7-a1ce-87df9f55da5a",
   "metadata": {},
   "source": [
    "## Numpy\n",
    "\n",
    "Numpy is a widely used Python library for numerical computation. It can compute operations on arrays much faster than native Python.\n",
    "\n",
    "### Array creation"
   ]
  },
  {
   "cell_type": "code",
   "execution_count": null,
   "id": "622608d8-cb80-4b1e-a239-42500f4260fa",
   "metadata": {},
   "outputs": [],
   "source": [
    "import numpy as np\n",
    "\n",
    "lst = [1, 2, 3, 4]\n",
    "\n",
    "# 1D array from a list\n",
    "np.array(lst)"
   ]
  },
  {
   "cell_type": "code",
   "execution_count": null,
   "id": "d08ca893-d367-4366-bf87-a88273aac723",
   "metadata": {},
   "outputs": [],
   "source": [
    "lst = [[1, 2, 3], [4, 5, 6], [7, 8, 9]]\n",
    "\n",
    "# 2D array from list of list\n",
    "np.array(lst)"
   ]
  },
  {
   "cell_type": "markdown",
   "id": "10b5ae9a-3f93-498d-832e-54dda1aa41e3",
   "metadata": {},
   "source": [
    "When declaring multi-dimensional arrays from lists of lists, the length of the lists need to be consistent:"
   ]
  },
  {
   "cell_type": "code",
   "execution_count": null,
   "id": "e52358ed-9f21-4b23-adc4-5c0f07de10dc",
   "metadata": {},
   "outputs": [],
   "source": [
    "jagged_lst = [[1, 2, 3], [4, 5], [6]]\n",
    "\n",
    "# Uncomment and run\n",
    "#np.array(jagged_lst)"
   ]
  },
  {
   "cell_type": "markdown",
   "id": "86c5f216-0b7e-4aa8-be73-8eac7fb51d4f",
   "metadata": {},
   "source": [
    "Arrays can also be created with specific numpy functions (see the [documentation](https://numpy.org/doc/stable/reference/routines.array-creation.html) for more details). For example:"
   ]
  },
  {
   "cell_type": "code",
   "execution_count": null,
   "id": "5eea70e5-4cd9-4532-8200-d38e5d174ce9",
   "metadata": {},
   "outputs": [],
   "source": [
    "# Create an array of integers from 1 to 5\n",
    "np.arange(1, 6)"
   ]
  },
  {
   "cell_type": "code",
   "execution_count": null,
   "id": "fc3cb2be-eb54-4c67-9edc-239fe09fabcd",
   "metadata": {},
   "outputs": [],
   "source": [
    "# Create an array of regularly spaced values\n",
    "np.linspace(0, 5, 11)"
   ]
  },
  {
   "cell_type": "code",
   "execution_count": null,
   "id": "78baf131-bb69-4d98-99f2-73deb3256f74",
   "metadata": {},
   "outputs": [],
   "source": [
    "# Create an array filled with zeros\n",
    "np.zeros(5)"
   ]
  },
  {
   "cell_type": "code",
   "execution_count": null,
   "id": "05aeb72f-4027-4306-9ce9-f0eb72a40196",
   "metadata": {},
   "outputs": [],
   "source": [
    "# Create an array filled with ones\n",
    "np.ones(5)"
   ]
  },
  {
   "cell_type": "code",
   "execution_count": null,
   "id": "c4419eea-cae9-4c92-95ba-aaacf9241faa",
   "metadata": {},
   "outputs": [],
   "source": [
    "# Create a 2d array with ones on its diagonal\n",
    "np.eye(5)"
   ]
  },
  {
   "cell_type": "code",
   "execution_count": null,
   "id": "f4de075d-2e26-4e96-989a-20f0937696ad",
   "metadata": {},
   "outputs": [],
   "source": [
    "# Create a 2D array with np.ones\n",
    "np.ones((4, 2))"
   ]
  },
  {
   "cell_type": "markdown",
   "id": "01532901-7d6c-412a-8f92-5dc3efa3e9cf",
   "metadata": {},
   "source": [
    "### Shape\n",
    "\n",
    "All arrays have a tuple of integers that determines their shape:"
   ]
  },
  {
   "cell_type": "code",
   "execution_count": null,
   "id": "a7ebf9d7-3dc5-411b-b6a3-ace4c57d2ca0",
   "metadata": {},
   "outputs": [],
   "source": [
    "a = np.array([[1, 2, 3], [4, 5, 6], [7, 8, 9], [10, 11, 12]])\n",
    "\n",
    "a.shape"
   ]
  },
  {
   "cell_type": "markdown",
   "id": "024bb8db-00ec-4367-b4bb-dd2a53ac5ab7",
   "metadata": {},
   "source": [
    "Arrays can be reshaped, as long as the total number of elements stays the same:"
   ]
  },
  {
   "cell_type": "code",
   "execution_count": null,
   "id": "47846330-d8a1-4cce-b4bb-9b0bfcb59941",
   "metadata": {},
   "outputs": [],
   "source": [
    "a.reshape((6, 2))"
   ]
  },
  {
   "cell_type": "markdown",
   "id": "40b118fb-c103-40ed-900d-b64f53467305",
   "metadata": {},
   "source": [
    "### Indexing\n",
    "\n",
    "Arrays can indexed and sliced in the same way as list, with the added possibility to index on more than one dimension:"
   ]
  },
  {
   "cell_type": "code",
   "execution_count": null,
   "id": "8da1a52c-1d16-41c2-b2c2-424fee4b4719",
   "metadata": {},
   "outputs": [],
   "source": [
    "a = np.array([[1, 2, 3], [4, 5, 6], [7, 8, 9]])\n",
    "\n",
    "a[0, 0]"
   ]
  },
  {
   "cell_type": "code",
   "execution_count": null,
   "id": "80a8a336-3c7f-436c-9bf2-792761e1b812",
   "metadata": {},
   "outputs": [],
   "source": [
    "a[:, 0]"
   ]
  },
  {
   "cell_type": "code",
   "execution_count": null,
   "id": "e48503d1-01cf-42bb-9760-b788ec46997b",
   "metadata": {},
   "outputs": [],
   "source": [
    "a[1, :] # Same as a[1]"
   ]
  },
  {
   "cell_type": "code",
   "execution_count": null,
   "id": "d784115b-49e0-4d36-83a1-d2b865169254",
   "metadata": {},
   "outputs": [],
   "source": [
    "a[:2, 1:]"
   ]
  },
  {
   "cell_type": "code",
   "execution_count": null,
   "id": "3be0b612-9bef-4c1d-8eda-39bb504413c5",
   "metadata": {},
   "outputs": [],
   "source": [
    "a[[0,2], :]"
   ]
  },
  {
   "cell_type": "markdown",
   "id": "aebc8e00-b2c4-4253-8d7c-4d813b2d6bb2",
   "metadata": {},
   "source": [
    "Boolean arrays can be used for indexing:"
   ]
  },
  {
   "cell_type": "code",
   "execution_count": null,
   "id": "21918584-4158-4678-83e3-e2831a695f95",
   "metadata": {},
   "outputs": [],
   "source": [
    "msk = a[:, 0] > 1\n",
    "print(msk)\n",
    "\n",
    "a[msk, :]"
   ]
  },
  {
   "cell_type": "code",
   "execution_count": null,
   "id": "cf2499b4-8b40-4acd-9723-fc25664b0ba8",
   "metadata": {},
   "outputs": [],
   "source": [
    "msk = a > 4\n",
    "print(msk)\n",
    "\n",
    "a[a > 4]"
   ]
  },
  {
   "cell_type": "markdown",
   "id": "e2aef0fc-ec14-4d75-87d6-70a724aa1a4c",
   "metadata": {},
   "source": [
    "Indexing a numpy array does not return a copy, modifying a slice modifies the array:"
   ]
  },
  {
   "cell_type": "code",
   "execution_count": null,
   "id": "9a23f658-d386-41b8-8135-ff5df4cccdeb",
   "metadata": {},
   "outputs": [],
   "source": [
    "a[:, 0] = range(3)\n",
    "a"
   ]
  },
  {
   "cell_type": "code",
   "execution_count": null,
   "id": "e98595f5-e0db-45dc-973a-14a525b033d9",
   "metadata": {},
   "outputs": [],
   "source": [
    "a[2, :] = 10\n",
    "a"
   ]
  },
  {
   "cell_type": "code",
   "execution_count": null,
   "id": "f791bf90-d9b3-44fe-aff4-c4fb4d41278b",
   "metadata": {},
   "outputs": [],
   "source": [
    "a[a > 5] = 5\n",
    "a"
   ]
  },
  {
   "cell_type": "markdown",
   "id": "ec3b8983-9102-4e0b-9623-45928f401477",
   "metadata": {},
   "source": [
    "### Element type\n",
    "\n",
    "`np.array` tries to guess the type of the array from the elemets it is given, but we can also give it the `dtype` keyword argument to set the type ourselves:"
   ]
  },
  {
   "cell_type": "code",
   "execution_count": null,
   "id": "40e8f8b6-b94d-448b-9631-6ff2924cbdf3",
   "metadata": {},
   "outputs": [],
   "source": [
    "lst = [[1, 2, 3], [4, 5, 6], [7, 8, 9], [10, 11, 12]]\n",
    "\n",
    "a = np.array(lst)\n",
    "b = np.array(lst, dtype=np.float64)\n",
    "\n",
    "print(a.dtype)\n",
    "print(a)\n",
    "print()\n",
    "print(b.dtype)\n",
    "print(b)"
   ]
  },
  {
   "cell_type": "markdown",
   "id": "9b5fe156-90eb-4cc7-9607-845fa627220b",
   "metadata": {},
   "source": [
    "A list of all available types can be found in the corresponding documentation [page](https://numpy.org/doc/stable/reference/arrays.scalars.html#built-in-scalar-types).\n",
    "\n",
    "### Operations\n",
    "\n",
    "Arithmetic operators can be used with two arrays of compatible shape:"
   ]
  },
  {
   "cell_type": "code",
   "execution_count": null,
   "id": "7ce372c1-1216-490e-9e66-2d720f0db2fe",
   "metadata": {},
   "outputs": [],
   "source": [
    "a = np.array([[1, 2], [3, 4]])\n",
    "b = np.array([[5, 6], [7, 8]])\n",
    "\n",
    "a + b"
   ]
  },
  {
   "cell_type": "code",
   "execution_count": null,
   "id": "7273d23a-368b-4f9c-85b2-1a451f04d6e7",
   "metadata": {},
   "outputs": [],
   "source": [
    "a - b"
   ]
  },
  {
   "cell_type": "code",
   "execution_count": null,
   "id": "00f8c8f4-77f5-4711-a7b1-96c37bd66693",
   "metadata": {},
   "outputs": [],
   "source": [
    "a * b"
   ]
  },
  {
   "cell_type": "code",
   "execution_count": null,
   "id": "0ee1e915-f0b8-4f7c-83da-6956bbd2ae2a",
   "metadata": {},
   "outputs": [],
   "source": [
    "a / b"
   ]
  },
  {
   "cell_type": "code",
   "execution_count": null,
   "id": "940f422f-9edf-4544-9548-1da295c5e906",
   "metadata": {},
   "outputs": [],
   "source": [
    "a ** b"
   ]
  },
  {
   "cell_type": "markdown",
   "id": "f709dd5a-f207-4451-96e8-ea56f2953b8d",
   "metadata": {},
   "source": [
    "Note that the multiplication is also element-wise, matrix multiplication is done with the `@` operator:"
   ]
  },
  {
   "cell_type": "code",
   "execution_count": null,
   "id": "9a2b913a-3ccd-48c7-b121-62a453e0a668",
   "metadata": {},
   "outputs": [],
   "source": [
    "a @ b"
   ]
  },
  {
   "cell_type": "code",
   "execution_count": null,
   "id": "48283362-2569-4145-a16d-6b53a4198242",
   "metadata": {},
   "outputs": [],
   "source": [
    "a.dot(b)"
   ]
  },
  {
   "cell_type": "code",
   "execution_count": null,
   "id": "a1c3197c-8ea4-4ba6-8c4d-d264a47bca3c",
   "metadata": {},
   "outputs": [],
   "source": [
    "a[0,:].dot(b[:,0])"
   ]
  },
  {
   "cell_type": "markdown",
   "id": "11f1e19b-a8d9-4959-8bf4-74974bd95ff5",
   "metadata": {},
   "source": [
    "#### Broadcasting\n",
    "\n",
    "Some operations between arrays of different sizes are also valid. For example, operations can be used with scalars:"
   ]
  },
  {
   "cell_type": "code",
   "execution_count": null,
   "id": "531fdd3b-6961-4968-b2dc-f84bda453dd2",
   "metadata": {},
   "outputs": [],
   "source": [
    "a + 5"
   ]
  },
  {
   "cell_type": "code",
   "execution_count": null,
   "id": "eb5c1403-c3d4-4b81-9983-d39d556ac142",
   "metadata": {},
   "outputs": [],
   "source": [
    "c = np.array([10, 20])\n",
    "\n",
    "a + c"
   ]
  },
  {
   "cell_type": "markdown",
   "id": "15b40ae1-acae-43fd-b49f-e926d4b4f2e1",
   "metadata": {},
   "source": [
    "#### Single array operations\n",
    "\n",
    "Numpy provides a number of mathematical functions that can tranform or reduce arrays, a detailed list can be found [here](https://numpy.org/doc/stable/reference/routines.math.html)"
   ]
  },
  {
   "cell_type": "code",
   "execution_count": null,
   "id": "0ec225af-8e7f-4eac-b83f-801f35e5ac6a",
   "metadata": {},
   "outputs": [],
   "source": [
    "np.sin(a)"
   ]
  },
  {
   "cell_type": "code",
   "execution_count": null,
   "id": "501be030-4dd3-45e7-abf0-cf190349e7ff",
   "metadata": {},
   "outputs": [],
   "source": [
    "lst = [[1 + 2j, 2 + 4j], [1j, 9]]\n",
    "complex_array = np.array(lst, dtype=complex)\n",
    "\n",
    "np.abs(complex_array)"
   ]
  },
  {
   "cell_type": "code",
   "execution_count": null,
   "id": "93cd1ace-ddc3-49f9-bd38-5220f6be815d",
   "metadata": {},
   "outputs": [],
   "source": [
    "np.mean(a)"
   ]
  },
  {
   "cell_type": "code",
   "execution_count": null,
   "id": "81c50984-7dd1-449c-be6c-492917456962",
   "metadata": {},
   "outputs": [],
   "source": [
    "np.mean(a, axis=0)"
   ]
  },
  {
   "cell_type": "code",
   "execution_count": null,
   "id": "92deb297-1393-40de-ae26-718d5b20eb4e",
   "metadata": {},
   "outputs": [],
   "source": [
    "np.sum(a, axis=1)"
   ]
  },
  {
   "cell_type": "code",
   "execution_count": null,
   "id": "8f92a320-523f-4640-a1b3-2c71dc55c391",
   "metadata": {},
   "outputs": [],
   "source": [
    "# Transpose the array\n",
    "a.T"
   ]
  },
  {
   "cell_type": "markdown",
   "id": "af714235-82cc-4093-8c0f-4815849403e2",
   "metadata": {},
   "source": [
    "## Matplotlib\n",
    "\n",
    "Matplotlib is a widely used plotting library, we will only see very basic functions but it can be useful to browse their [examples](https://matplotlib.org/stable/gallery/index.html) page to see the type of plots that can be created.\n",
    "\n",
    "2D numpy arrays can easily be visualized using matplotlib with the `imshow` function. "
   ]
  },
  {
   "cell_type": "code",
   "execution_count": null,
   "id": "7b4d3071-3793-4b85-8981-5a6ffb7b806c",
   "metadata": {},
   "outputs": [],
   "source": [
    "import numpy as np\n",
    "import matplotlib.pyplot as plt\n",
    "\n",
    "a = np.arange(100).reshape((10, 10))\n",
    "\n",
    "plt.imshow(a)"
   ]
  },
  {
   "cell_type": "markdown",
   "id": "f543a9d9-163e-467c-ad2f-ba5b37bcfddc",
   "metadata": {},
   "source": [
    "Before taking a closer look at the available matplotlib functions, we will practise numpy array manipulations.\n",
    "\n",
    "<div class=\"alert alert-block alert-info\">\n",
    "<b>Exercise 5: Mandelbrot set with numpy arrays</b><br>\n",
    "</div>\n",
    "\n",
    "We will plot the [Mandelbrot set](https://en.wikipedia.org/wiki/Mandelbrot_set) using numpy array manipulations. Complete the following function:"
   ]
  },
  {
   "cell_type": "code",
   "execution_count": null,
   "id": "cb0f8465-986e-499a-a8f7-3fd45162a486",
   "metadata": {},
   "outputs": [],
   "source": [
    "import numpy as np\n",
    "import matplotlib.pyplot as plt\n",
    "\n",
    "def plot_mandelbrot_set(x1, x2, y1, y2, dpi=500, steps=20, threshold=2):\n",
    "    \"\"\"Plot the Mandelbrot set.\"\"\"\n",
    "    # Compute the width and height of the image\n",
    "    width = int(dpi * (x2 - x1))\n",
    "    height = int(dpi * (y2 - y1))\n",
    "    \n",
    "    # Create the array of complex constants\n",
    "    real, imag = np.meshgrid(\n",
    "        np.linspace(x1, x2, width),\n",
    "        np.linspace(y1, y2, height)\n",
    "    )\n",
    "    constants = real + 1j * imag\n",
    "\n",
    "    # Complete the code here\n",
    "    \n",
    "    # Create a complex array (dtype=complex) with the same shape as constants for the Mandelbrot set\n",
    "    # For each step, each value z in the mandelbrot array is updated according to:\n",
    "    #   z = z ** 2 + c \n",
    "    #       with c the complex constant corresponding to z (in the same position in the array)\n",
    "    #   If the absolute value of z is higher than threshold, we cap it at threshold.\n",
    "\n",
    "    plt.figure(figsize=(12, 10))\n",
    "    \n",
    "    # Modify the code here to plot the Mandelbrot array instead of the constants\n",
    "    plt.imshow(np.abs(constants))\n",
    "\n",
    "# Test the function\n",
    "plot_mandelbrot_set(-1.7, 0.7, -1, 1)"
   ]
  },
  {
   "cell_type": "code",
   "execution_count": null,
   "id": "da6f0e44-6ee9-44b1-90b0-7d164d4b9bb1",
   "metadata": {},
   "outputs": [],
   "source": [
    "# Uncomment for solution\n",
    "#%load exercises/ex5.py"
   ]
  },
  {
   "cell_type": "markdown",
   "id": "1f8f099d-2fe3-4c86-acb2-70af86414d1d",
   "metadata": {},
   "source": [
    "As an additonal exercise, you can plot an array containing the number of steps that were necessary for each point to cross the threshold, this is what is usually represented in pictures of the Mandelbrot set.\n",
    "\n",
    "### Figures and line plots\n",
    "\n",
    "With matplotlib, most plotting operations are done through `matplotlib.pyplot` which is usually renamed to `plt`:"
   ]
  },
  {
   "cell_type": "code",
   "execution_count": null,
   "id": "7f6e5678-814c-495f-b979-7fd25f6d7de4",
   "metadata": {},
   "outputs": [],
   "source": [
    "import numpy as np\n",
    "import matplotlib.pyplot as plt\n",
    "\n",
    "xvals = np.arange(0, 10, 0.1)\n",
    "\n",
    "plt.figure() # Not necessary if no parameters need to be given\n",
    "\n",
    "plt.plot(xvals, np.sin(xvals))\n",
    "plt.plot(xvals, np.cos(xvals))\n",
    "\n",
    "plt.show() # Necessary in a python script, but not in a notebook"
   ]
  },
  {
   "cell_type": "markdown",
   "id": "42743ebb-1fc9-4a7c-9830-ebeec130c02c",
   "metadata": {},
   "source": [
    "`plt.figure` takes a `figsize` argument to control the size of the figure, other arguments are described in the [documentation](https://matplotlib.org/stable/api/_as_gen/matplotlib.pyplot.figure.html)."
   ]
  },
  {
   "cell_type": "code",
   "execution_count": null,
   "id": "8af9f5d9-ad63-4709-a976-cd0a635c03e1",
   "metadata": {},
   "outputs": [],
   "source": [
    "plt.figure(figsize=(12, 10))\n",
    "\n",
    "plt.plot(xvals, np.sin(xvals))\n",
    "plt.plot(xvals, np.cos(xvals))"
   ]
  },
  {
   "cell_type": "markdown",
   "id": "1b255e68-5844-4a95-a96c-099ff0c64560",
   "metadata": {},
   "source": [
    "Additional parameters can be supplied to `plt.plot` to change the aspect of the line (see the corresponding [documentation page](https://matplotlib.org/stable/api/_as_gen/matplotlib.pyplot.plot.html) for an exhaustive list)."
   ]
  },
  {
   "cell_type": "code",
   "execution_count": null,
   "id": "c32ff255-795b-46c1-b517-05d54c3cbbc7",
   "metadata": {},
   "outputs": [],
   "source": [
    "plt.plot(xvals, np.sin(xvals), 'r--', linewidth=5)\n",
    "plt.plot(xvals, np.cos(xvals), marker='s', color=[0, 1, 0])"
   ]
  },
  {
   "cell_type": "markdown",
   "id": "c3ac1158-9f16-47da-95dc-d02f12ffc7d5",
   "metadata": {},
   "source": [
    "You can control axis limits and labels with `plt.xlim` and `plt.xlabel`, add a legend with `plt.legend`, and set the title of the plot with `plt.title`:"
   ]
  },
  {
   "cell_type": "code",
   "execution_count": null,
   "id": "f4af6caf-fcd3-4400-b8a1-58c1e23523df",
   "metadata": {},
   "outputs": [],
   "source": [
    "plt.plot(xvals, np.sin(xvals))\n",
    "plt.plot(xvals, np.cos(xvals))\n",
    "plt.xlim([-1, 5])\n",
    "plt.ylim([-2, 2])\n",
    "plt.xlabel('My x axis label')\n",
    "plt.ylabel('My y axis label')\n",
    "plt.legend(['sin', 'cos'])\n",
    "plt.title('My title')"
   ]
  },
  {
   "cell_type": "markdown",
   "id": "179ed78c-88e1-4c7a-a92b-21e8a5f18bbd",
   "metadata": {},
   "source": [
    "Alternatively, legend labels can be given to the plot function:"
   ]
  },
  {
   "cell_type": "code",
   "execution_count": null,
   "id": "2d171793-0e1a-4624-9166-addefa5336fc",
   "metadata": {},
   "outputs": [],
   "source": [
    "plt.plot(xvals, np.sin(xvals), label='sin')\n",
    "plt.plot(xvals, np.cos(xvals), label='cos')\n",
    "plt.legend()"
   ]
  },
  {
   "cell_type": "markdown",
   "id": "f2c74828-6152-4c4c-9af3-b2f20b0a0bb2",
   "metadata": {},
   "source": [
    "Note that `plt.plot` can also take a single array as argument, in which case the xvalues will correspond to the indices (0 to n) of the array."
   ]
  },
  {
   "cell_type": "code",
   "execution_count": null,
   "id": "bed4697c-c93a-4e52-92e7-8ab778171b53",
   "metadata": {},
   "outputs": [],
   "source": [
    "plt.plot(np.sin(xvals))"
   ]
  },
  {
   "cell_type": "markdown",
   "id": "fe8d3d82-7241-4a75-91ae-f2abc62fd143",
   "metadata": {},
   "source": [
    "### Subplots\n",
    "\n",
    "Figures can contain more than one set of axes, the `plt.subplots` function returns a figure and an array of empty axes:"
   ]
  },
  {
   "cell_type": "code",
   "execution_count": null,
   "id": "565c94c9-69e4-4bb1-b937-6d09a85acc08",
   "metadata": {},
   "outputs": [],
   "source": [
    "fig, axes = plt.subplots(2, 2, figsize=(12, 10))\n",
    "\n",
    "axes[0, 0].plot(xvals, np.sin(xvals), 'b')\n",
    "axes[0, 1].plot(xvals, np.cos(xvals), 'r')\n",
    "axes[1, 0].plot(xvals, np.exp(xvals), 'g')\n",
    "axes[1, 1].plot(xvals, np.log(xvals + 1), 'k')"
   ]
  },
  {
   "cell_type": "markdown",
   "id": "2fa924f4-4ceb-4a02-bfff-ebe9fd708cad",
   "metadata": {},
   "source": [
    "`plt.sca` (set current axes) can be used to set axis labels etc. with `plt` functions:"
   ]
  },
  {
   "cell_type": "code",
   "execution_count": null,
   "id": "9d0574f1-fd33-4e0a-a746-80bcc1ac09ab",
   "metadata": {},
   "outputs": [],
   "source": [
    "fig, axes = plt.subplots(2, 2, figsize=(12, 10))\n",
    "\n",
    "axes[0, 0].plot(xvals, np.sin(xvals), 'b')\n",
    "axes[0, 1].plot(xvals, np.cos(xvals), 'r')\n",
    "axes[1, 0].plot(xvals, np.exp(xvals), 'g')\n",
    "axes[1, 1].plot(xvals, np.log(xvals + 1), 'k')\n",
    "\n",
    "plt.sca(axes[0, 1])\n",
    "plt.xlim([-1, 3])\n",
    "plt.title('[0, 1] title')"
   ]
  },
  {
   "cell_type": "markdown",
   "id": "c9a53bfa-fff4-42d5-95c9-dbd26b4dba91",
   "metadata": {},
   "source": [
    "### Other types of plots\n",
    "\n",
    "#### Histogram"
   ]
  },
  {
   "cell_type": "code",
   "execution_count": null,
   "id": "35b1b26a-6790-4b7f-a48b-e2d4d0c31580",
   "metadata": {},
   "outputs": [],
   "source": [
    "values = np.random.normal(size=500)\n",
    "\n",
    "plt.hist(values, bins=20)\n",
    "plt.title('Histogram')"
   ]
  },
  {
   "cell_type": "code",
   "execution_count": null,
   "id": "7c643fc0-26cf-427f-9e26-fe12f8b3f58d",
   "metadata": {},
   "outputs": [],
   "source": [
    "plt.hist(values, bins=20, histtype='step', cumulative=True, density=True)\n",
    "plt.title('Empirical CDF')"
   ]
  },
  {
   "cell_type": "markdown",
   "id": "e1ab5be6-a68d-463c-9a49-4cb239e6ecf3",
   "metadata": {},
   "source": [
    "Custom bin positions:"
   ]
  },
  {
   "cell_type": "code",
   "execution_count": null,
   "id": "f248f14b-edbc-438b-85a6-eed05ffb8162",
   "metadata": {},
   "outputs": [],
   "source": [
    "plt.hist(values, bins=np.arange(-2, 2, 0.1))\n",
    "plt.title('Custom bins')"
   ]
  },
  {
   "cell_type": "markdown",
   "id": "e6888f5e-d23d-44e1-9452-278f129f59b0",
   "metadata": {},
   "source": [
    "#### Scatter plot\n",
    "\n",
    "Similar to `plt.plot` but only display markers, no line."
   ]
  },
  {
   "cell_type": "code",
   "execution_count": null,
   "id": "b4228683-f8a4-4ce5-824e-017779ec2ee1",
   "metadata": {},
   "outputs": [],
   "source": [
    "y_values = np.random.normal(loc=values, scale=0.5, size=500)\n",
    "\n",
    "plt.scatter(values, y_values, marker='+')"
   ]
  },
  {
   "cell_type": "markdown",
   "id": "81396fce-6d08-4e74-a401-c92f347a6451",
   "metadata": {},
   "source": [
    "#### Heatmap\n",
    "\n",
    "As we saw in exercise 5, 2D arrays can be plotted as an image with a colormap using `plt.imshow`:"
   ]
  },
  {
   "cell_type": "code",
   "execution_count": null,
   "id": "74f91a3f-965c-4810-b6a3-7d5e399482fa",
   "metadata": {},
   "outputs": [],
   "source": [
    "xvals = np.linspace(-2, 2, 200)\n",
    "yvals = np.linspace(-2, 2, 200)\n",
    "\n",
    "x, y = np.meshgrid(xvals, yvals)\n",
    "Z = x * y\n",
    "\n",
    "plt.imshow(Z, cmap='jet')\n",
    "plt.colorbar(label='Colorbar label')"
   ]
  },
  {
   "cell_type": "markdown",
   "id": "db4bf605-c018-4411-9407-7be68518ad36",
   "metadata": {},
   "source": [
    "The available colormaps are listed in this [page](https://matplotlib.org/stable/tutorials/colors/colormaps.html).\n",
    "If the points are not regularly spaced, it is better to use `pcolormesh()`:"
   ]
  },
  {
   "cell_type": "code",
   "execution_count": null,
   "id": "70652dbf-b2fb-4607-b06b-0aea5193870b",
   "metadata": {},
   "outputs": [],
   "source": [
    "xvals = sorted(np.random.normal(size=100))\n",
    "yvals = sorted(np.random.normal(size=100))\n",
    "\n",
    "x, y = np.meshgrid(xvals, yvals)\n",
    "Z = x * y\n",
    "\n",
    "fig, ax = plt.subplots()\n",
    "ax.set_aspect('equal')\n",
    "p = plt.pcolormesh(x, y, Z, cmap='RdBu')\n",
    "plt.colorbar(p)"
   ]
  },
  {
   "cell_type": "markdown",
   "id": "c7508496-23ef-4678-9c5e-ed782aaf9459",
   "metadata": {},
   "source": [
    "#### 3D plots\n",
    "\n",
    "matplotlib is not particularly good for plotting 3D objects, but basic surface plots are available."
   ]
  },
  {
   "cell_type": "code",
   "execution_count": null,
   "id": "8f909d83-0fca-4f82-9da2-4018d37c9c74",
   "metadata": {},
   "outputs": [],
   "source": [
    "Z = np.sin(x) * np.cos(y)\n",
    "\n",
    "fig, ax = plt.subplots(figsize=(10, 8), subplot_kw={\"projection\": \"3d\"})\n",
    "ax.plot_surface(x, y, Z, cmap='RdBu')"
   ]
  },
  {
   "cell_type": "markdown",
   "id": "37b063c6-cc0f-4915-80d6-4eb7d7148a5f",
   "metadata": {},
   "source": [
    "### Plotting data from .csv files\n",
    "\n",
    "Numpy can bu used to read data from comma-separated values (CSV) files. Here we will load data that describes the weather in Okinawa for a week:"
   ]
  },
  {
   "cell_type": "code",
   "execution_count": null,
   "id": "2ae22c32-4ac8-4304-83fb-a21a9987a085",
   "metadata": {},
   "outputs": [],
   "source": [
    "import csv\n",
    "\n",
    "with open('data/okinawa_weather.csv', 'r') as f:\n",
    "    col_names, *data = csv.reader(f)\n",
    "    data = np.array(data, dtype=float)\n",
    "\n",
    "print(col_names)"
   ]
  },
  {
   "cell_type": "markdown",
   "id": "f560d32e-0e80-407c-9bb5-b3cc481d1fd4",
   "metadata": {},
   "source": [
    "<div class=\"alert alert-block alert-info\">\n",
    "<b>Exercise 6: Plot weather data</b><br>\n",
    "</div>\n",
    "\n",
    "Use matplotlib functions to plot the weather data (anyway you see fit)."
   ]
  },
  {
   "cell_type": "code",
   "execution_count": null,
   "id": "c75111b5-86ff-461a-aeb1-e0e6079c22cd",
   "metadata": {},
   "outputs": [],
   "source": []
  },
  {
   "cell_type": "code",
   "execution_count": null,
   "id": "8af4c8e7-561a-4c23-88b7-13716633263e",
   "metadata": {},
   "outputs": [],
   "source": []
  },
  {
   "cell_type": "code",
   "execution_count": null,
   "id": "0b03f5ad-38f7-434f-8387-1a8cd01ae3ff",
   "metadata": {},
   "outputs": [],
   "source": []
  },
  {
   "cell_type": "code",
   "execution_count": null,
   "id": "b000d222-8b20-4a91-bc15-9e9c0f4a36da",
   "metadata": {},
   "outputs": [],
   "source": [
    "# Uncomment for plot examples\n",
    "#%load exercises/ex6.py"
   ]
  },
  {
   "cell_type": "markdown",
   "id": "1d01ad56-46a9-4ad1-926d-d7a855061baa",
   "metadata": {},
   "source": [
    "## Classes\n",
    "\n",
    "User-defined classes are a way to group data and operations on data together. A class defines a type of object, and we say that an object is an instance of the class. For example `list` is a class that defines what a list is, and which attributes and methods are defined for it. `[1, 2, 3]` is an instance of class `list`, it is a specific list.\n",
    "\n",
    "In Python, classes are declared with the `class` statement:"
   ]
  },
  {
   "cell_type": "code",
   "execution_count": null,
   "id": "d9c84775-fc4a-4e30-8a7a-fae9b7943840",
   "metadata": {},
   "outputs": [],
   "source": [
    "class MyClass:\n",
    "    def __init__(self, a):\n",
    "        self.myAttr = a\n",
    "        \n",
    "    def show(self):\n",
    "        print('This is my object with attribute', self.myAttr)"
   ]
  },
  {
   "cell_type": "markdown",
   "id": "f669eedb-7829-4e80-aac3-f708f5bc9ed0",
   "metadata": {},
   "source": [
    "Objects of this class can be instanciated with:"
   ]
  },
  {
   "cell_type": "code",
   "execution_count": null,
   "id": "79da3014-2835-4561-9b41-8d8f7a1c70e6",
   "metadata": {},
   "outputs": [],
   "source": [
    "myObj = MyClass(32)\n",
    "myObj.show()"
   ]
  },
  {
   "cell_type": "markdown",
   "id": "3a6c8e3c-13a8-433a-bb45-8625a5cf1cb6",
   "metadata": {},
   "source": [
    "All class methods (functions defined in the class) take `self` as first argument, it represents the object on which the method is called. `myObj.show()` is shorthand for `MyClass.show(myObj)`:"
   ]
  },
  {
   "cell_type": "code",
   "execution_count": null,
   "id": "4f7a132f-e596-40ab-89d5-89be9342df8b",
   "metadata": {},
   "outputs": [],
   "source": [
    "MyClass.show(myObj)"
   ]
  },
  {
   "cell_type": "markdown",
   "id": "6fd3ec17-1385-4927-be06-192138c55d02",
   "metadata": {},
   "source": [
    "Instance attributes are not pre-declared at the level of the class, they are initialized in the special method `__init__(self, ...)` that is called after an object is created. The arguments given to `MyClass(...)` are forwarded to this method."
   ]
  },
  {
   "cell_type": "markdown",
   "id": "663bcf4f-43d9-48ec-8776-67e0f52a8010",
   "metadata": {},
   "source": [
    "<div class=\"alert alert-block alert-info\">\n",
    "<b>Exercise 7: Ants</b><br>\n",
    "</div>\n",
    "\n",
    "Complete the code in `exercises/antsim.py`."
   ]
  }
 ],
 "metadata": {
  "kernelspec": {
   "display_name": "Python 3 (ipykernel)",
   "language": "python",
   "name": "python3"
  },
  "language_info": {
   "codemirror_mode": {
    "name": "ipython",
    "version": 3
   },
   "file_extension": ".py",
   "mimetype": "text/x-python",
   "name": "python",
   "nbconvert_exporter": "python",
   "pygments_lexer": "ipython3",
   "version": "3.10.6"
  }
 },
 "nbformat": 4,
 "nbformat_minor": 5
}
